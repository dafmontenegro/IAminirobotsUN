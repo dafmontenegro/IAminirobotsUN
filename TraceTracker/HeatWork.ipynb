{
 "cells": [
  {
   "cell_type": "markdown",
   "metadata": {},
   "source": [
    "Zonas Seguras"
   ]
  },
  {
   "cell_type": "code",
   "execution_count": 421,
   "metadata": {},
   "outputs": [
    {
     "name": "stdout",
     "output_type": "stream",
     "text": [
      "Note: you may need to restart the kernel to use updated packages.Requirement already satisfied: tifffile in c:\\users\\user\\appdata\\local\\packages\\pythonsoftwarefoundation.python.3.10_qbz5n2kfra8p0\\localcache\\local-packages\\python310\\site-packages (2024.8.30)\n",
      "Requirement already satisfied: numpy in c:\\users\\user\\appdata\\local\\packages\\pythonsoftwarefoundation.python.3.10_qbz5n2kfra8p0\\localcache\\local-packages\\python310\\site-packages (from tifffile) (1.24.2)\n",
      "\n"
     ]
    },
    {
     "name": "stderr",
     "output_type": "stream",
     "text": [
      "WARNING: There was an error checking the latest version of pip.\n"
     ]
    },
    {
     "name": "stdout",
     "output_type": "stream",
     "text": [
      "Requirement already satisfied: opencv-python in c:\\users\\user\\appdata\\local\\packages\\pythonsoftwarefoundation.python.3.10_qbz5n2kfra8p0\\localcache\\local-packages\\python310\\site-packages (4.10.0.84)\n",
      "Requirement already satisfied: numpy>=1.21.2 in c:\\users\\user\\appdata\\local\\packages\\pythonsoftwarefoundation.python.3.10_qbz5n2kfra8p0\\localcache\\local-packages\\python310\\site-packages (from opencv-python) (1.24.2)\n",
      "Note: you may need to restart the kernel to use updated packages.\n"
     ]
    },
    {
     "name": "stderr",
     "output_type": "stream",
     "text": [
      "WARNING: There was an error checking the latest version of pip.\n"
     ]
    }
   ],
   "source": [
    "%pip install tifffile\n",
    "%pip install opencv-python\n",
    "\n"
   ]
  },
  {
   "cell_type": "code",
   "execution_count": 422,
   "metadata": {},
   "outputs": [],
   "source": [
    "import numpy as np\n",
    "import cv2\n",
    "import tifffile\n",
    "import random\n"
   ]
  },
  {
   "cell_type": "code",
   "execution_count": null,
   "metadata": {},
   "outputs": [],
   "source": []
  },
  {
   "cell_type": "code",
   "execution_count": 423,
   "metadata": {},
   "outputs": [],
   "source": [
    "def procesar_entrada(imagenDir=None, n=None, m=None):\n",
    "    # Si se proporciona una imagen, obtenemos su tamaño automáticamente\n",
    "    print(imagenDir)\n",
    "    if imagenDir is not None:\n",
    "\n",
    "        \n",
    "        if imagenDir.lower().endswith('.tiff') or imagenDir.lower().endswith('.tif'):\n",
    "            with tifffile.TiffFile(imagenDir) as tiff:\n",
    "                num_paginas = len(tiff.pages)\n",
    "        \n",
    "                if num_paginas > 1:\n",
    "                    print(\"El archivo TIFF es multipágina.\")\n",
    "                    \n",
    "                    # Leer la primera página\n",
    "                    heatValue = tiff.pages[0].asarray()\n",
    "                    size = heatValue.shape\n",
    "                    print(\"Primera página leída con tamaño:\", heatValue.shape)\n",
    "                    \n",
    "                    # Leer las páginas restantes\n",
    "                    extrasCapas = [tiff.pages[i].asarray() for i in range(1, num_paginas)]\n",
    "                    print(f\"Leídas {len(extrasCapas)} páginas adicionales.\")\n",
    "                else:\n",
    "                    print(\"El archivo TIFF es de una sola página.\")\n",
    "                    # Leer la imagen\n",
    "                    heatValue = tiff.pages[0].asarray()\n",
    "                    size = heatValue.shape\n",
    "                    print(\"Imagen leída con tamaño:\", heatValue.shape)\n",
    "        else:\n",
    "        # Guardar la imagen como un archivo estándar\n",
    "            heatValue = cv2.imread(imagenDir)\n",
    "            if heatValue is not None:\n",
    "                size = heatValue.shape\n",
    "                print(\"Imagen estándar leída con tamaño:\", heatValue.shape)\n",
    "            else:\n",
    "                print(\"No se pudo leer el archivo de imagen.\")\n",
    "        # Convertir la imagen a escala de grises para simplicidad\n",
    "    # Si no se proporciona una imagen, usamos los valores de n y m\n",
    "    elif n is not None and m is not None:\n",
    "        size =[n,m]\n",
    "        # Crear una imagen vacía (negra) de tamaño n x m\n",
    "        heatValue = np.zeros((n, m),  dtype=np.float32)\n",
    "        print(f\"Imagen de tamaño {n} x {m} creada.\")\n",
    "    \n",
    "    else:\n",
    "        raise ValueError(\"Se debe proporcionar una imagen o los valores n y m.\")\n",
    "    return heatValue, size"
   ]
  },
  {
   "cell_type": "code",
   "execution_count": 424,
   "metadata": {},
   "outputs": [],
   "source": [
    "def guardarArchivo(nombreDeArchivo,heatValue, direccion =None,multiple =False,extras = None):\n",
    "    with tifffile.TiffWriter(nombreDeArchivo+\".tiff\") as tiff:\n",
    "        tiff.write(heatValue)\n",
    "        if(multiple and extras != None):\n",
    "            for i in range(len(extras)):\n",
    "                tiff.write(extras[i])\n",
    "\n"
   ]
  },
  {
   "cell_type": "code",
   "execution_count": 425,
   "metadata": {},
   "outputs": [],
   "source": [
    "def procesoRandom(r,n,m):\n",
    "    valoresX = list(range(0, m))\n",
    "    valoresY = list(range(0, n))\n",
    "\n",
    "    parX = [(a, b) for i, a in enumerate(valoresX) for b in valoresX[i+1:]]\n",
    "    parY = [(a, b) for i, a in enumerate(valoresY) for b in valoresY[i+1:]]\n",
    "    \n",
    "    # Seleccionar n pares aleatorios\n",
    "    duplasX = random.sample(parX, n)\n",
    "    duplasY = random.sample(parY, n)\n",
    "\n",
    "    cords = [[[d1[0],d2[0]],[d1[1],d2[1]]] for d1, d2 in zip(duplasX, duplasY)]\n",
    "\n",
    "    duplas = random.sample(cords, r)\n",
    "    \n",
    "    return duplas\n",
    "\n",
    "def cubePlay(r,n,m):\n",
    "    center =[0,0]\n",
    "    exi = random.randint(0,3)\n",
    "    if(exi ==0):\n",
    "        center = [0,random.randint(0,n)]\n",
    "    elif(exi ==1):\n",
    "        center = [m,random.randint(0,n)]\n",
    "    elif(exi ==2):\n",
    "        center = [random.randint(0,m),0]\n",
    "    else:\n",
    "        center = [random.randint(0,m),n]\n",
    "\n",
    "    \n",
    "    mel = min(n,m)\n",
    "    rad = random.randint(mel/8,mel/4)\n",
    "\n",
    "    \n",
    "    duplas = []\n",
    "\n",
    "    for i in range(r):\n",
    "\n",
    "        \n",
    "        x1 =center[0]-rad\n",
    "        x2 =center[0]+rad\n",
    "\n",
    "        x1 = 0 if x1<0 else x1\n",
    "\n",
    "        x2 = m if x2>m else x2\n",
    "\n",
    "        y1 =center[1]-rad\n",
    "        y2 =center[1]+rad\n",
    "\n",
    "        y1 = 0 if y1<0 else y1\n",
    "\n",
    "        y2 = n if y2>n else y2\n",
    "\n",
    "        duplas.append([[x1,y1],[x2,y2]])\n",
    "\n",
    "        move = [random.randint(-mel*0.2,mel*0.2),random.randint(-mel*0.2,mel*0.2)]\n",
    "\n",
    "        move[0] = (-1 if (center[0]+move[0]<0 or center[0]+move[0]>m) else 1) * move[0]\n",
    "        move[1] = (-1 if (center[1]+move[1]<0 or center[1]+move[1]>n) else 1) * move[1]\n",
    "\n",
    "        center =[center[0]+move[0],center[1]+move[1]]\n",
    "        \n",
    "\n",
    "    return duplas\n",
    "    \n",
    "\n",
    "\n",
    "def generarProces(r,n,m,randomm = True):\n",
    "    if(randomm):\n",
    "        return procesoRandom(r,n,m)\n",
    "    else:\n",
    "        return cubePlay(r,n,m)\n",
    "    \n",
    "\n",
    "def GuardarCords(cordss,name):\n",
    "    with open(name+'.txt', 'w') as f:\n",
    "        for coord in cordss:\n",
    "            f.write(f\"{coord}\\n\")\n",
    "\n",
    "    print(\"Coordenadas guardadas en '\"+name+\"'.txt'.\")\n",
    "\n",
    "def LeerCoordenadas(name):\n",
    "    coordenadas_leidas = []\n",
    "    with open(name+'.txt', 'r') as f:\n",
    "        for line in f:\n",
    "            coordenadas_leidas.append(eval(line.strip()))\n",
    "\n",
    "    return coordenadas_leidas "
   ]
  },
  {
   "cell_type": "code",
   "execution_count": 426,
   "metadata": {},
   "outputs": [
    {
     "name": "stdout",
     "output_type": "stream",
     "text": [
      "Coordenadas guardadas en 'coordenadas'.txt'.\n"
     ]
    }
   ],
   "source": [
    "name = \"coordenadas\"\n",
    "GuardarCords(generarProces(100,1280,720,False),name)"
   ]
  },
  {
   "cell_type": "code",
   "execution_count": 427,
   "metadata": {},
   "outputs": [],
   "source": [
    "def normalizar_matriz(matriz):\n",
    "    #convierte la matriz a un rango de 0 a 1\n",
    "    min_val = 0\n",
    "    max_val = np.max(matriz)\n",
    "    if max_val - min_val == 0:\n",
    "        return matriz  # Evitar división por cero si todos los valores son iguales\n",
    "    return (matriz - min_val) / (max_val - min_val)\n",
    "\n",
    "def CalcularNuevaDesviacion(preHeat, newHeat): ## formula para calcular el efecto del video sobre los datos previos,\n",
    "    \n",
    "    diferencia = preHeat - newHeat\n",
    "    magnitud_diferencia = np.abs(diferencia)\n",
    "\n",
    "    direccion = np.where(magnitud_diferencia == 0, 0, diferencia / magnitud_diferencia)  # saber la direccion en la que nos desviamos si el valor es el mismo no debe haber cambio por ende es 0\n",
    "    \n",
    "    producto = preHeat * newHeat\n",
    "\n",
    "    # Calcular el nuevo valor\n",
    "    newnewHeat = preHeat + direccion * producto\n",
    "\n",
    "    return newnewHeat\n",
    "\n",
    "def CalcularNuevaDesviacionAlfa(preHeat, newHeat,alpha): ## formula para calcular el efecto del video sobre los datos previos, utilizando un valor alfa de peso\n",
    "    # Calcular con el facvotr de suavisado\n",
    "    newnewHeat = alpha*preHeat + (1-alpha) * newHeat\n",
    "    return newnewHeat"
   ]
  },
  {
   "cell_type": "code",
   "execution_count": 428,
   "metadata": {},
   "outputs": [],
   "source": [
    "def procesarCamino(heatValue,size,newPath,calor=False, alpha = 1):\n",
    "    \n",
    "    newHeat = np.zeros(heatValue.shape,  dtype=np.float32)\n",
    "    \n",
    "    for (x1, y1), (x2, y2) in newPath:\n",
    "        newHeat[x1:x2+1, y1:y2+1] += 1\n",
    "    # Normalizar la matriz a un rango de 0 a 255\n",
    "    print(newHeat[300,200])\n",
    "    newHeat = normalizar_matriz(newHeat)\n",
    "    heatValue = normalizar_matriz(heatValue)\n",
    "    print(newHeat[300,200])\n",
    "    if(calor):\n",
    "        newHeat = CalcularNuevaDesviacionAlfa(heatValue,newHeat,alpha)\n",
    "    else:\n",
    "        newHeat = CalcularNuevaDesviacion(heatValue,newHeat)\n",
    "        \n",
    "    return newHeat"
   ]
  },
  {
   "cell_type": "code",
   "execution_count": 429,
   "metadata": {},
   "outputs": [],
   "source": [
    "def dividirPorFases(mapa, division, porcent=True):\n",
    "    percent = 1\n",
    "    raz = 1\n",
    "    filas,columnas = mapa.shape\n",
    "\n",
    "    if(not porcent):\n",
    "        raz = int(division)\n",
    "        percent = 1/division \n",
    "    else:\n",
    "        raz = int(1/division)\n",
    "        percent = division \n",
    "    extra = []\n",
    "\n",
    "    for k in range(raz):\n",
    "        print(percent*k*255)\n",
    "        copy  = np.zeros(mapa.shape,dtype=np.uint8)\n",
    "        for i in range(filas):\n",
    "            for j in range(columnas):\n",
    "                if(mapa[i,j]>percent*k):\n",
    "                    copy[i,j] =255\n",
    "        extra.append(copy)\n",
    "\n",
    "    return extra\n",
    "\n",
    "\n",
    "\n"
   ]
  },
  {
   "cell_type": "code",
   "execution_count": 430,
   "metadata": {},
   "outputs": [],
   "source": [
    "def procesamientoCaminos(name,n=720,m=1280,calor=True,alpha=0.75,divisions=5):\n",
    "    heatValue,size = procesar_entrada(name+\".tiff\", n=n,m=m)\n",
    "    newPath = LeerCoordenadas(\"coordenadas\")\n",
    "    # Dimensiones de la imagen (n: alto, m: ancho\n",
    "    newheatValue = procesarCamino(heatValue,size,newPath,calor,alpha)\n",
    "    imagen_uint8 = (newheatValue * 255).astype(np.uint8)\n",
    "\n",
    "    # Mostrar la imagen en una ventana\n",
    "    cv2.imshow('Imagen Negra', imagen_uint8)\n",
    "\n",
    "    cv2.setWindowProperty('Imagen Negra', cv2.WND_PROP_TOPMOST, 1)\n",
    "    cv2.waitKey(0)\n",
    "    cv2.destroyAllWindows()\n",
    "    extrasCapas = dividirPorFases(newheatValue,division=5,porcent=False)\n",
    "\n",
    "    guardarArchivo(name,newheatValue,multiple=True,extras=extrasCapas)"
   ]
  },
  {
   "cell_type": "code",
   "execution_count": 431,
   "metadata": {},
   "outputs": [
    {
     "name": "stdout",
     "output_type": "stream",
     "text": [
      "None\n",
      "Imagen de tamaño 720 x 1280 creada.\n",
      "8.0\n",
      "0.15384616\n",
      "39\n"
     ]
    }
   ],
   "source": [
    "\n",
    "##variables Globales\n",
    "\n",
    "heatValue,size = procesar_entrada(n=720,m=1280)\n",
    "\n",
    "extrasCapas = None\n",
    "\n",
    "difProcess = 0.0\n",
    "\n",
    "newPath = LeerCoordenadas(\"coordenadas\")\n",
    "\n",
    "analize = False\n",
    "\n",
    "\n",
    "# Dimensiones de la imagen (n: alto, m: ancho\n",
    "newheatValue = procesarCamino(heatValue,size,newPath,True,0)\n",
    "imagen_uint8 = (newheatValue * 255).astype(np.uint8)\n",
    "\n",
    "\n",
    "print(imagen_uint8[300,200])\n",
    "\n",
    "# Mostrar la imagen en una ventana\n",
    "cv2.imshow('Imagen Negra', imagen_uint8)\n",
    "\n",
    "cv2.setWindowProperty('Imagen Negra', cv2.WND_PROP_TOPMOST, 1)\n",
    "cv2.waitKey(0)\n",
    "cv2.destroyAllWindows()\n"
   ]
  },
  {
   "cell_type": "code",
   "execution_count": 432,
   "metadata": {},
   "outputs": [
    {
     "name": "stdout",
     "output_type": "stream",
     "text": [
      "1.0\n",
      "0.0\n",
      "51.0\n",
      "102.0\n",
      "153.00000000000003\n",
      "204.0\n"
     ]
    }
   ],
   "source": [
    "\"\"\"print(\"diga el porcentaje de separacion\") ## tambien se puede con numero de divisiones\n",
    "\n",
    "percent = input(\"entre 0 y 1 o 0 y 100 \")\n",
    "percent = float(percent)\n",
    "\n",
    "\n",
    "if(percent >1):\n",
    "    percent = percent/100\n",
    "\"\"\"\n",
    "print(newheatValue.max())\n",
    "extrasCapas = dividirPorFases(newheatValue,0.2)\n",
    "\n",
    "\n",
    "\n",
    "guardarArchivo('mapaDeCalor',newheatValue,multiple=True,extras=extrasCapas)"
   ]
  },
  {
   "cell_type": "code",
   "execution_count": 436,
   "metadata": {},
   "outputs": [
    {
     "name": "stdout",
     "output_type": "stream",
     "text": [
      "Coordenadas guardadas en 'coordenadas'.txt'.\n",
      "mapaDeCalor.tiff\n",
      "El archivo TIFF es multipágina.\n",
      "Primera página leída con tamaño: (720, 1280)\n",
      "Leídas 5 páginas adicionales.\n",
      "7.0\n",
      "0.4117647\n"
     ]
    },
    {
     "name": "stderr",
     "output_type": "stream",
     "text": [
      "C:\\Users\\User\\AppData\\Local\\Temp\\ipykernel_18912\\2566342434.py:14: RuntimeWarning: invalid value encountered in divide\n",
      "  direccion = np.where(magnitud_diferencia == 0, 0, diferencia / magnitud_diferencia)  # saber la direccion en la que nos desviamos si el valor es el mismo no debe haber cambio por ende es 0\n"
     ]
    },
    {
     "name": "stdout",
     "output_type": "stream",
     "text": [
      "0.0\n",
      "51.0\n",
      "102.0\n",
      "153.00000000000003\n",
      "204.0\n"
     ]
    }
   ],
   "source": [
    "name = \"coordenadas\"\n",
    "GuardarCords(generarProces(100,1280,720,False),name)\n",
    "procesamientoCaminos('mapaDeCalor',calor=False)\n",
    "\n"
   ]
  }
 ],
 "metadata": {
  "kernelspec": {
   "display_name": "Python 3",
   "language": "python",
   "name": "python3"
  },
  "language_info": {
   "codemirror_mode": {
    "name": "ipython",
    "version": 3
   },
   "file_extension": ".py",
   "mimetype": "text/x-python",
   "name": "python",
   "nbconvert_exporter": "python",
   "pygments_lexer": "ipython3",
   "version": "3.10.11"
  }
 },
 "nbformat": 4,
 "nbformat_minor": 2
}
